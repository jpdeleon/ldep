{
 "cells": [
  {
   "cell_type": "markdown",
   "metadata": {},
   "source": [
    "## Part 1 Inspecting and selecting working light curve\n",
    "\n",
    "* [exoplanet.eu](http://exoplanet.eu/catalog/HAT-P-44_b/)\n",
    "\n",
    "Created: 10/27/2017\n",
    "\n",
    "Last run:\n",
    "* 10/28"
   ]
  },
  {
   "cell_type": "code",
   "execution_count": 1,
   "metadata": {
    "ExecuteTime": {
     "end_time": "2017-10-28T04:16:37.497733Z",
     "start_time": "2017-10-28T04:16:37.361270Z"
    },
    "scrolled": false
   },
   "outputs": [
    {
     "name": "stdout",
     "output_type": "stream",
     "text": [
      "Python 3.6.1 :: Continuum Analytics, Inc.\r\n"
     ]
    }
   ],
   "source": [
    "#check python version\n",
    "!python --version"
   ]
  },
  {
   "cell_type": "code",
   "execution_count": 2,
   "metadata": {
    "ExecuteTime": {
     "end_time": "2017-10-28T04:16:37.527712Z",
     "start_time": "2017-10-28T04:16:37.501490Z"
    }
   },
   "outputs": [
    {
     "data": {
      "text/plain": [
       "'astroconda35'"
      ]
     },
     "execution_count": 2,
     "metadata": {},
     "output_type": "execute_result"
    }
   ],
   "source": [
    "#check environment\n",
    "import os\n",
    "os.environ['CONDA_DEFAULT_ENV']"
   ]
  },
  {
   "cell_type": "markdown",
   "metadata": {},
   "source": [
    "## import data"
   ]
  },
  {
   "cell_type": "code",
   "execution_count": 3,
   "metadata": {
    "ExecuteTime": {
     "end_time": "2017-10-28T04:16:37.552439Z",
     "start_time": "2017-10-28T04:16:37.536294Z"
    }
   },
   "outputs": [
    {
     "data": {
      "text/plain": [
       "['lcf_msct_z_hatp44_170215_t2_c13_r9-14.bjd.dat',\n",
       " 'lcm_msct_r_hatp44_170215_t2_c3_r9-14.bjd.dat',\n",
       " 'lcm_msct_z_hatp44_170215_t2_c1_r9-14.bjd.dat',\n",
       " 'lcf_msct_r_hatp44_170215_t2_c1_r9-14.bjd.dat',\n",
       " 'lcf_msct_z_hatp44_170215_t2_c1_r9-14.bjd.dat',\n",
       " 'lcf_msct_r_hatp44_170215_t2_c3_r9-14.bjd.dat',\n",
       " 'lcm_msct_z_hatp44_170215_t2_c13_r9-14.bjd.dat',\n",
       " 'lcm_msct_r_hatp44_170215_t2_c13_r9-14.bjd.dat',\n",
       " 'lcm_msct_g_hatp44_170215_t2_c13_r9-14.bjd.dat',\n",
       " 'lcf_msct_g_hatp44_170215_t2_c13_r9-14.bjd.dat',\n",
       " 'lcm_msct_z_hatp44_170215_t2_c3_r9-14.bjd.dat',\n",
       " 'lcf_msct_g_hatp44_170215_t2_c3_r9-14.bjd.dat',\n",
       " 'lcf_msct_r_hatp44_170215_t2_c13_r9-14.bjd.dat',\n",
       " 'lcf_msct_z_hatp44_170215_t2_c3_r9-14.bjd.dat',\n",
       " 'lcm_msct_g_hatp44_170215_t2_c1_r9-14.bjd.dat',\n",
       " 'lcm_msct_g_hatp44_170215_t2_c3_r9-14.bjd.dat',\n",
       " 'lcf_msct_g_hatp44_170215_t2_c1_r9-14.bjd.dat',\n",
       " 'lcm_msct_r_hatp44_170215_t2_c1_r9-14.bjd.dat']"
      ]
     },
     "execution_count": 3,
     "metadata": {},
     "output_type": "execute_result"
    }
   ],
   "source": [
    "import glob\n",
    "\n",
    "glob.glob('*.dat')"
   ]
  },
  {
   "cell_type": "code",
   "execution_count": 4,
   "metadata": {
    "ExecuteTime": {
     "end_time": "2017-10-28T04:16:37.597554Z",
     "start_time": "2017-10-28T04:16:37.557268Z"
    }
   },
   "outputs": [
    {
     "data": {
      "text/plain": [
       "'lcf_msct_g_hatp44_170215_t2_c1_r9-14.bjd.dat'"
      ]
     },
     "execution_count": 4,
     "metadata": {},
     "output_type": "execute_result"
    }
   ],
   "source": [
    "name               = 'hatp44'\n",
    "date               = '170215'\n",
    "target_star_id     = '2'\n",
    "comparison_star_id = '1' #13, #3\n",
    "radii_range        = '9-14'\n",
    "b                  = 'g'\n",
    "\n",
    "#filename\n",
    "fname='lcf_msct_'+b+'_'+name+'_'+date+'_t'+target_star_id+'_c'+comparison_star_id+'_r'+radii_range+'.bjd.dat'\n",
    "fname"
   ]
  },
  {
   "cell_type": "code",
   "execution_count": 5,
   "metadata": {
    "ExecuteTime": {
     "end_time": "2017-10-28T04:16:38.256600Z",
     "start_time": "2017-10-28T04:16:37.603496Z"
    }
   },
   "outputs": [],
   "source": [
    "import pandas as pd\n",
    "\n",
    "#df means dataframe\n",
    "df=pd.read_csv(fname, delimiter=' ', parse_dates=True)"
   ]
  },
  {
   "cell_type": "code",
   "execution_count": 6,
   "metadata": {
    "ExecuteTime": {
     "end_time": "2017-10-28T04:16:38.340625Z",
     "start_time": "2017-10-28T04:16:38.259273Z"
    }
   },
   "outputs": [
    {
     "data": {
      "text/html": [
       "<div>\n",
       "<style>\n",
       "    .dataframe thead tr:only-child th {\n",
       "        text-align: right;\n",
       "    }\n",
       "\n",
       "    .dataframe thead th {\n",
       "        text-align: left;\n",
       "    }\n",
       "\n",
       "    .dataframe tbody tr th {\n",
       "        vertical-align: top;\n",
       "    }\n",
       "</style>\n",
       "<table border=\"1\" class=\"dataframe\">\n",
       "  <thead>\n",
       "    <tr style=\"text-align: right;\">\n",
       "      <th></th>\n",
       "      <th>BJD(TDB)-2450000</th>\n",
       "      <th>airmass</th>\n",
       "      <th>sky(ADU)</th>\n",
       "      <th>dx(pix)</th>\n",
       "      <th>dy(pix)</th>\n",
       "      <th>fwhm(pix)</th>\n",
       "      <th>peak(ADU)</th>\n",
       "      <th>frame</th>\n",
       "      <th>flux(r=9.0)</th>\n",
       "      <th>err(r=9.0)</th>\n",
       "      <th>...</th>\n",
       "      <th>err(r=10.0)</th>\n",
       "      <th>flux(r=11.0)</th>\n",
       "      <th>err(r=11.0)</th>\n",
       "      <th>flux(r=12.0)</th>\n",
       "      <th>err(r=12.0)</th>\n",
       "      <th>flux(r=13.0)</th>\n",
       "      <th>err(r=13.0)</th>\n",
       "      <th>flux(r=14.0)</th>\n",
       "      <th>err(r=14.0)</th>\n",
       "      <th>Unnamed: 20</th>\n",
       "    </tr>\n",
       "  </thead>\n",
       "  <tbody>\n",
       "    <tr>\n",
       "      <th>0</th>\n",
       "      <td>7800.099692</td>\n",
       "      <td>1.9196</td>\n",
       "      <td>2564.1</td>\n",
       "      <td>-1.522</td>\n",
       "      <td>-0.067</td>\n",
       "      <td>10.40</td>\n",
       "      <td>13180.2</td>\n",
       "      <td>MSCL0_1702150533</td>\n",
       "      <td>0.997805</td>\n",
       "      <td>0.002302</td>\n",
       "      <td>...</td>\n",
       "      <td>0.002328</td>\n",
       "      <td>0.998154</td>\n",
       "      <td>0.002375</td>\n",
       "      <td>0.998058</td>\n",
       "      <td>0.002436</td>\n",
       "      <td>0.998373</td>\n",
       "      <td>0.002509</td>\n",
       "      <td>0.998092</td>\n",
       "      <td>0.002590</td>\n",
       "      <td>NaN</td>\n",
       "    </tr>\n",
       "    <tr>\n",
       "      <th>1</th>\n",
       "      <td>7800.100433</td>\n",
       "      <td>1.9102</td>\n",
       "      <td>2560.6</td>\n",
       "      <td>-1.843</td>\n",
       "      <td>0.175</td>\n",
       "      <td>10.10</td>\n",
       "      <td>13581.1</td>\n",
       "      <td>MSCL0_1702150534</td>\n",
       "      <td>0.995643</td>\n",
       "      <td>0.002284</td>\n",
       "      <td>...</td>\n",
       "      <td>0.002313</td>\n",
       "      <td>0.998239</td>\n",
       "      <td>0.002361</td>\n",
       "      <td>1.000560</td>\n",
       "      <td>0.002426</td>\n",
       "      <td>1.001977</td>\n",
       "      <td>0.002499</td>\n",
       "      <td>1.003748</td>\n",
       "      <td>0.002583</td>\n",
       "      <td>NaN</td>\n",
       "    </tr>\n",
       "    <tr>\n",
       "      <th>2</th>\n",
       "      <td>7800.101185</td>\n",
       "      <td>1.9007</td>\n",
       "      <td>2572.5</td>\n",
       "      <td>-1.062</td>\n",
       "      <td>-0.709</td>\n",
       "      <td>9.63</td>\n",
       "      <td>13743.7</td>\n",
       "      <td>MSCL0_1702150535</td>\n",
       "      <td>1.001389</td>\n",
       "      <td>0.002297</td>\n",
       "      <td>...</td>\n",
       "      <td>0.002325</td>\n",
       "      <td>1.001248</td>\n",
       "      <td>0.002374</td>\n",
       "      <td>1.000594</td>\n",
       "      <td>0.002434</td>\n",
       "      <td>1.001619</td>\n",
       "      <td>0.002509</td>\n",
       "      <td>1.001948</td>\n",
       "      <td>0.002590</td>\n",
       "      <td>NaN</td>\n",
       "    </tr>\n",
       "  </tbody>\n",
       "</table>\n",
       "<p>3 rows × 21 columns</p>\n",
       "</div>"
      ],
      "text/plain": [
       "   BJD(TDB)-2450000  airmass  sky(ADU)  dx(pix)  dy(pix)  fwhm(pix)  \\\n",
       "0       7800.099692   1.9196    2564.1   -1.522   -0.067      10.40   \n",
       "1       7800.100433   1.9102    2560.6   -1.843    0.175      10.10   \n",
       "2       7800.101185   1.9007    2572.5   -1.062   -0.709       9.63   \n",
       "\n",
       "   peak(ADU)             frame  flux(r=9.0)  err(r=9.0)     ...       \\\n",
       "0    13180.2  MSCL0_1702150533     0.997805    0.002302     ...        \n",
       "1    13581.1  MSCL0_1702150534     0.995643    0.002284     ...        \n",
       "2    13743.7  MSCL0_1702150535     1.001389    0.002297     ...        \n",
       "\n",
       "   err(r=10.0)  flux(r=11.0)  err(r=11.0)  flux(r=12.0)  err(r=12.0)  \\\n",
       "0     0.002328      0.998154     0.002375      0.998058     0.002436   \n",
       "1     0.002313      0.998239     0.002361      1.000560     0.002426   \n",
       "2     0.002325      1.001248     0.002374      1.000594     0.002434   \n",
       "\n",
       "   flux(r=13.0)  err(r=13.0)  flux(r=14.0)  err(r=14.0)  Unnamed: 20  \n",
       "0      0.998373     0.002509      0.998092     0.002590          NaN  \n",
       "1      1.001977     0.002499      1.003748     0.002583          NaN  \n",
       "2      1.001619     0.002509      1.001948     0.002590          NaN  \n",
       "\n",
       "[3 rows x 21 columns]"
      ]
     },
     "execution_count": 6,
     "metadata": {},
     "output_type": "execute_result"
    }
   ],
   "source": [
    "#print top n lines\n",
    "n=3\n",
    "df.head(n)"
   ]
  },
  {
   "cell_type": "code",
   "execution_count": 7,
   "metadata": {
    "ExecuteTime": {
     "end_time": "2017-10-28T04:16:38.357698Z",
     "start_time": "2017-10-28T04:16:38.344495Z"
    }
   },
   "outputs": [
    {
     "data": {
      "text/plain": [
       "Index(['BJD(TDB)-2450000', 'airmass', 'sky(ADU)', 'dx(pix)', 'dy(pix)',\n",
       "       'fwhm(pix)', 'peak(ADU)', 'frame', 'flux(r=9.0)', 'err(r=9.0)',\n",
       "       'flux(r=10.0)', 'err(r=10.0)', 'flux(r=11.0)', 'err(r=11.0)',\n",
       "       'flux(r=12.0)', 'err(r=12.0)', 'flux(r=13.0)', 'err(r=13.0)',\n",
       "       'flux(r=14.0)', 'err(r=14.0)', 'Unnamed: 20'],\n",
       "      dtype='object')"
      ]
     },
     "execution_count": 7,
     "metadata": {},
     "output_type": "execute_result"
    }
   ],
   "source": [
    "df.columns"
   ]
  },
  {
   "cell_type": "code",
   "execution_count": 8,
   "metadata": {
    "ExecuteTime": {
     "end_time": "2017-10-28T04:16:38.488735Z",
     "start_time": "2017-10-28T04:16:38.365046Z"
    }
   },
   "outputs": [
    {
     "data": {
      "text/html": [
       "<div>\n",
       "<style>\n",
       "    .dataframe thead tr:only-child th {\n",
       "        text-align: right;\n",
       "    }\n",
       "\n",
       "    .dataframe thead th {\n",
       "        text-align: left;\n",
       "    }\n",
       "\n",
       "    .dataframe tbody tr th {\n",
       "        vertical-align: top;\n",
       "    }\n",
       "</style>\n",
       "<table border=\"1\" class=\"dataframe\">\n",
       "  <thead>\n",
       "    <tr style=\"text-align: right;\">\n",
       "      <th></th>\n",
       "      <th>BJD(TDB)-2450000</th>\n",
       "      <th>airmass</th>\n",
       "      <th>sky(ADU)</th>\n",
       "      <th>dx(pix)</th>\n",
       "      <th>dy(pix)</th>\n",
       "      <th>fwhm(pix)</th>\n",
       "      <th>peak(ADU)</th>\n",
       "      <th>flux(r=9.0)</th>\n",
       "      <th>err(r=9.0)</th>\n",
       "      <th>flux(r=10.0)</th>\n",
       "      <th>err(r=10.0)</th>\n",
       "      <th>flux(r=11.0)</th>\n",
       "      <th>err(r=11.0)</th>\n",
       "      <th>flux(r=12.0)</th>\n",
       "      <th>err(r=12.0)</th>\n",
       "      <th>flux(r=13.0)</th>\n",
       "      <th>err(r=13.0)</th>\n",
       "      <th>flux(r=14.0)</th>\n",
       "      <th>err(r=14.0)</th>\n",
       "    </tr>\n",
       "  </thead>\n",
       "  <tbody>\n",
       "    <tr>\n",
       "      <th>0</th>\n",
       "      <td>7800.099692</td>\n",
       "      <td>1.9196</td>\n",
       "      <td>2564.1</td>\n",
       "      <td>-1.522</td>\n",
       "      <td>-0.067</td>\n",
       "      <td>10.40</td>\n",
       "      <td>13180.2</td>\n",
       "      <td>0.997805</td>\n",
       "      <td>0.002302</td>\n",
       "      <td>0.997585</td>\n",
       "      <td>0.002328</td>\n",
       "      <td>0.998154</td>\n",
       "      <td>0.002375</td>\n",
       "      <td>0.998058</td>\n",
       "      <td>0.002436</td>\n",
       "      <td>0.998373</td>\n",
       "      <td>0.002509</td>\n",
       "      <td>0.998092</td>\n",
       "      <td>0.002590</td>\n",
       "    </tr>\n",
       "    <tr>\n",
       "      <th>1</th>\n",
       "      <td>7800.100433</td>\n",
       "      <td>1.9102</td>\n",
       "      <td>2560.6</td>\n",
       "      <td>-1.843</td>\n",
       "      <td>0.175</td>\n",
       "      <td>10.10</td>\n",
       "      <td>13581.1</td>\n",
       "      <td>0.995643</td>\n",
       "      <td>0.002284</td>\n",
       "      <td>0.996653</td>\n",
       "      <td>0.002313</td>\n",
       "      <td>0.998239</td>\n",
       "      <td>0.002361</td>\n",
       "      <td>1.000560</td>\n",
       "      <td>0.002426</td>\n",
       "      <td>1.001977</td>\n",
       "      <td>0.002499</td>\n",
       "      <td>1.003748</td>\n",
       "      <td>0.002583</td>\n",
       "    </tr>\n",
       "    <tr>\n",
       "      <th>2</th>\n",
       "      <td>7800.101185</td>\n",
       "      <td>1.9007</td>\n",
       "      <td>2572.5</td>\n",
       "      <td>-1.062</td>\n",
       "      <td>-0.709</td>\n",
       "      <td>9.63</td>\n",
       "      <td>13743.7</td>\n",
       "      <td>1.001389</td>\n",
       "      <td>0.002297</td>\n",
       "      <td>1.001252</td>\n",
       "      <td>0.002325</td>\n",
       "      <td>1.001248</td>\n",
       "      <td>0.002374</td>\n",
       "      <td>1.000594</td>\n",
       "      <td>0.002434</td>\n",
       "      <td>1.001619</td>\n",
       "      <td>0.002509</td>\n",
       "      <td>1.001948</td>\n",
       "      <td>0.002590</td>\n",
       "    </tr>\n",
       "  </tbody>\n",
       "</table>\n",
       "</div>"
      ],
      "text/plain": [
       "   BJD(TDB)-2450000  airmass  sky(ADU)  dx(pix)  dy(pix)  fwhm(pix)  \\\n",
       "0       7800.099692   1.9196    2564.1   -1.522   -0.067      10.40   \n",
       "1       7800.100433   1.9102    2560.6   -1.843    0.175      10.10   \n",
       "2       7800.101185   1.9007    2572.5   -1.062   -0.709       9.63   \n",
       "\n",
       "   peak(ADU)  flux(r=9.0)  err(r=9.0)  flux(r=10.0)  err(r=10.0)  \\\n",
       "0    13180.2     0.997805    0.002302      0.997585     0.002328   \n",
       "1    13581.1     0.995643    0.002284      0.996653     0.002313   \n",
       "2    13743.7     1.001389    0.002297      1.001252     0.002325   \n",
       "\n",
       "   flux(r=11.0)  err(r=11.0)  flux(r=12.0)  err(r=12.0)  flux(r=13.0)  \\\n",
       "0      0.998154     0.002375      0.998058     0.002436      0.998373   \n",
       "1      0.998239     0.002361      1.000560     0.002426      1.001977   \n",
       "2      1.001248     0.002374      1.000594     0.002434      1.001619   \n",
       "\n",
       "   err(r=13.0)  flux(r=14.0)  err(r=14.0)  \n",
       "0     0.002509      0.998092     0.002590  \n",
       "1     0.002499      1.003748     0.002583  \n",
       "2     0.002509      1.001948     0.002590  "
      ]
     },
     "execution_count": 8,
     "metadata": {},
     "output_type": "execute_result"
    }
   ],
   "source": [
    "#remove unnecessary columns\n",
    "df=df.drop(['frame','Unnamed: 20'],axis=1)\n",
    "df.head(3)"
   ]
  },
  {
   "cell_type": "code",
   "execution_count": 9,
   "metadata": {
    "ExecuteTime": {
     "end_time": "2017-10-28T04:16:38.550875Z",
     "start_time": "2017-10-28T04:16:38.500251Z"
    }
   },
   "outputs": [
    {
     "data": {
      "text/plain": [
       "0    0.997805\n",
       "1    0.995643\n",
       "2    1.001389\n",
       "3    0.995177\n",
       "4    1.004532\n",
       "Name: flux(r=9.0), dtype: float64"
      ]
     },
     "execution_count": 9,
     "metadata": {},
     "output_type": "execute_result"
    }
   ],
   "source": [
    "#selecting a column\n",
    "df['flux(r=9.0)'].head()"
   ]
  },
  {
   "cell_type": "code",
   "execution_count": 10,
   "metadata": {
    "ExecuteTime": {
     "end_time": "2017-10-28T04:16:38.633298Z",
     "start_time": "2017-10-28T04:16:38.561441Z"
    }
   },
   "outputs": [
    {
     "data": {
      "text/html": [
       "<div>\n",
       "<style>\n",
       "    .dataframe thead tr:only-child th {\n",
       "        text-align: right;\n",
       "    }\n",
       "\n",
       "    .dataframe thead th {\n",
       "        text-align: left;\n",
       "    }\n",
       "\n",
       "    .dataframe tbody tr th {\n",
       "        vertical-align: top;\n",
       "    }\n",
       "</style>\n",
       "<table border=\"1\" class=\"dataframe\">\n",
       "  <thead>\n",
       "    <tr style=\"text-align: right;\">\n",
       "      <th></th>\n",
       "      <th>BJD(TDB)-2450000</th>\n",
       "      <th>flux(r=9.0)</th>\n",
       "    </tr>\n",
       "  </thead>\n",
       "  <tbody>\n",
       "    <tr>\n",
       "      <th>0</th>\n",
       "      <td>7800.099692</td>\n",
       "      <td>0.997805</td>\n",
       "    </tr>\n",
       "    <tr>\n",
       "      <th>1</th>\n",
       "      <td>7800.100433</td>\n",
       "      <td>0.995643</td>\n",
       "    </tr>\n",
       "    <tr>\n",
       "      <th>2</th>\n",
       "      <td>7800.101185</td>\n",
       "      <td>1.001389</td>\n",
       "    </tr>\n",
       "  </tbody>\n",
       "</table>\n",
       "</div>"
      ],
      "text/plain": [
       "   BJD(TDB)-2450000  flux(r=9.0)\n",
       "0       7800.099692     0.997805\n",
       "1       7800.100433     0.995643\n",
       "2       7800.101185     1.001389"
      ]
     },
     "execution_count": 10,
     "metadata": {},
     "output_type": "execute_result"
    }
   ],
   "source": [
    "#selecting many columns\n",
    "cols=['BJD(TDB)-2450000','flux(r=9.0)']\n",
    "df[cols].head(3)"
   ]
  },
  {
   "cell_type": "code",
   "execution_count": 11,
   "metadata": {
    "ExecuteTime": {
     "end_time": "2017-10-28T04:16:40.810939Z",
     "start_time": "2017-10-28T04:16:38.670338Z"
    },
    "scrolled": false
   },
   "outputs": [
    {
     "data": {
      "text/plain": [
       "<matplotlib.axes._subplots.AxesSubplot at 0x7f558c339710>"
      ]
     },
     "execution_count": 11,
     "metadata": {},
     "output_type": "execute_result"
    },
    {
     "data": {
      "image/png": "[encoded data removed]",
      "text/plain": [
       "<matplotlib.figure.Figure at 0x7f558eb322b0>"
      ]
     },
     "metadata": {},
     "output_type": "display_data"
    }
   ],
   "source": [
    "#default pandas plotting\n",
    "%matplotlib inline\n",
    "\n",
    "df.plot(x='BJD(TDB)-2450000',y='flux(r=9.0)')"
   ]
  },
  {
   "cell_type": "raw",
   "metadata": {},
   "source": [
    "#you can also plot using pyplot\n",
    "\n",
    "import matplotlib.pyplot as pl\n",
    "\n",
    "figure, axis = pl.subplots(nrows=1,ncols=1,figsize=(12,5))\n",
    "\n",
    "x=df['BJD(TDB)-2450000']\n",
    "y=df['flux(r=9.0)']\n",
    "\n",
    "pl.plot(x,y)"
   ]
  },
  {
   "cell_type": "markdown",
   "metadata": {},
   "source": [
    "## Removing outliers"
   ]
  },
  {
   "cell_type": "code",
   "execution_count": 12,
   "metadata": {
    "ExecuteTime": {
     "end_time": "2017-10-28T04:16:40.844230Z",
     "start_time": "2017-10-28T04:16:40.818449Z"
    },
    "collapsed": true
   },
   "outputs": [],
   "source": [
    "#using numpy\n",
    "import numpy as np\n",
    "\n",
    "sigma=5.0\n",
    "df=df[np.abs(df-df.mean())<=(sigma*df.std())]"
   ]
  },
  {
   "cell_type": "code",
   "execution_count": 14,
   "metadata": {
    "ExecuteTime": {
     "end_time": "2017-10-28T04:16:59.103005Z",
     "start_time": "2017-10-28T04:16:58.745980Z"
    }
   },
   "outputs": [
    {
     "data": {
      "text/plain": [
       "<matplotlib.axes._subplots.AxesSubplot at 0x7f5588fbd978>"
      ]
     },
     "execution_count": 14,
     "metadata": {},
     "output_type": "execute_result"
    },
    {
     "data": {
      "image/png": "[encoded data removed]",
      "text/plain": [
       "<matplotlib.figure.Figure at 0x7f5588fbd0f0>"
      ]
     },
     "metadata": {},
     "output_type": "display_data"
    }
   ],
   "source": [
    "import matplotlib.pyplot as pl\n",
    "\n",
    "df.plot(x='BJD(TDB)-2450000',y='flux(r=9.0)')"
   ]
  },
  {
   "cell_type": "code",
   "execution_count": 15,
   "metadata": {
    "ExecuteTime": {
     "end_time": "2017-10-28T04:17:12.699881Z",
     "start_time": "2017-10-28T04:17:12.624983Z"
    }
   },
   "outputs": [
    {
     "data": {
      "text/html": [
       "<div>\n",
       "<style>\n",
       "    .dataframe thead tr:only-child th {\n",
       "        text-align: right;\n",
       "    }\n",
       "\n",
       "    .dataframe thead th {\n",
       "        text-align: left;\n",
       "    }\n",
       "\n",
       "    .dataframe tbody tr th {\n",
       "        vertical-align: top;\n",
       "    }\n",
       "</style>\n",
       "<table border=\"1\" class=\"dataframe\">\n",
       "  <thead>\n",
       "    <tr style=\"text-align: right;\">\n",
       "      <th></th>\n",
       "      <th>airmass</th>\n",
       "      <th>sky(ADU)</th>\n",
       "      <th>dx(pix)</th>\n",
       "      <th>dy(pix)</th>\n",
       "      <th>fwhm(pix)</th>\n",
       "      <th>peak(ADU)</th>\n",
       "      <th>flux(r=9.0)</th>\n",
       "      <th>err(r=9.0)</th>\n",
       "      <th>flux(r=10.0)</th>\n",
       "      <th>err(r=10.0)</th>\n",
       "      <th>flux(r=11.0)</th>\n",
       "      <th>err(r=11.0)</th>\n",
       "      <th>flux(r=12.0)</th>\n",
       "      <th>err(r=12.0)</th>\n",
       "      <th>flux(r=13.0)</th>\n",
       "      <th>err(r=13.0)</th>\n",
       "      <th>flux(r=14.0)</th>\n",
       "      <th>err(r=14.0)</th>\n",
       "    </tr>\n",
       "    <tr>\n",
       "      <th>BJD(TDB)-2450000</th>\n",
       "      <th></th>\n",
       "      <th></th>\n",
       "      <th></th>\n",
       "      <th></th>\n",
       "      <th></th>\n",
       "      <th></th>\n",
       "      <th></th>\n",
       "      <th></th>\n",
       "      <th></th>\n",
       "      <th></th>\n",
       "      <th></th>\n",
       "      <th></th>\n",
       "      <th></th>\n",
       "      <th></th>\n",
       "      <th></th>\n",
       "      <th></th>\n",
       "      <th></th>\n",
       "      <th></th>\n",
       "    </tr>\n",
       "  </thead>\n",
       "  <tbody>\n",
       "    <tr>\n",
       "      <th>7800.099692</th>\n",
       "      <td>1.9196</td>\n",
       "      <td>2564.1</td>\n",
       "      <td>-1.522</td>\n",
       "      <td>-0.067</td>\n",
       "      <td>10.40</td>\n",
       "      <td>13180.2</td>\n",
       "      <td>0.997805</td>\n",
       "      <td>0.002302</td>\n",
       "      <td>0.997585</td>\n",
       "      <td>0.002328</td>\n",
       "      <td>0.998154</td>\n",
       "      <td>0.002375</td>\n",
       "      <td>0.998058</td>\n",
       "      <td>0.002436</td>\n",
       "      <td>0.998373</td>\n",
       "      <td>0.002509</td>\n",
       "      <td>0.998092</td>\n",
       "      <td>0.002590</td>\n",
       "    </tr>\n",
       "    <tr>\n",
       "      <th>7800.100433</th>\n",
       "      <td>1.9102</td>\n",
       "      <td>2560.6</td>\n",
       "      <td>-1.843</td>\n",
       "      <td>0.175</td>\n",
       "      <td>10.10</td>\n",
       "      <td>13581.1</td>\n",
       "      <td>0.995643</td>\n",
       "      <td>0.002284</td>\n",
       "      <td>0.996653</td>\n",
       "      <td>0.002313</td>\n",
       "      <td>0.998239</td>\n",
       "      <td>0.002361</td>\n",
       "      <td>1.000560</td>\n",
       "      <td>0.002426</td>\n",
       "      <td>1.001977</td>\n",
       "      <td>0.002499</td>\n",
       "      <td>1.003748</td>\n",
       "      <td>0.002583</td>\n",
       "    </tr>\n",
       "    <tr>\n",
       "      <th>7800.101185</th>\n",
       "      <td>1.9007</td>\n",
       "      <td>2572.5</td>\n",
       "      <td>-1.062</td>\n",
       "      <td>-0.709</td>\n",
       "      <td>9.63</td>\n",
       "      <td>13743.7</td>\n",
       "      <td>1.001389</td>\n",
       "      <td>0.002297</td>\n",
       "      <td>1.001252</td>\n",
       "      <td>0.002325</td>\n",
       "      <td>1.001248</td>\n",
       "      <td>0.002374</td>\n",
       "      <td>1.000594</td>\n",
       "      <td>0.002434</td>\n",
       "      <td>1.001619</td>\n",
       "      <td>0.002509</td>\n",
       "      <td>1.001948</td>\n",
       "      <td>0.002590</td>\n",
       "    </tr>\n",
       "  </tbody>\n",
       "</table>\n",
       "</div>"
      ],
      "text/plain": [
       "                  airmass  sky(ADU)  dx(pix)  dy(pix)  fwhm(pix)  peak(ADU)  \\\n",
       "BJD(TDB)-2450000                                                              \n",
       "7800.099692        1.9196    2564.1   -1.522   -0.067      10.40    13180.2   \n",
       "7800.100433        1.9102    2560.6   -1.843    0.175      10.10    13581.1   \n",
       "7800.101185        1.9007    2572.5   -1.062   -0.709       9.63    13743.7   \n",
       "\n",
       "                  flux(r=9.0)  err(r=9.0)  flux(r=10.0)  err(r=10.0)  \\\n",
       "BJD(TDB)-2450000                                                       \n",
       "7800.099692          0.997805    0.002302      0.997585     0.002328   \n",
       "7800.100433          0.995643    0.002284      0.996653     0.002313   \n",
       "7800.101185          1.001389    0.002297      1.001252     0.002325   \n",
       "\n",
       "                  flux(r=11.0)  err(r=11.0)  flux(r=12.0)  err(r=12.0)  \\\n",
       "BJD(TDB)-2450000                                                         \n",
       "7800.099692           0.998154     0.002375      0.998058     0.002436   \n",
       "7800.100433           0.998239     0.002361      1.000560     0.002426   \n",
       "7800.101185           1.001248     0.002374      1.000594     0.002434   \n",
       "\n",
       "                  flux(r=13.0)  err(r=13.0)  flux(r=14.0)  err(r=14.0)  \n",
       "BJD(TDB)-2450000                                                        \n",
       "7800.099692           0.998373     0.002509      0.998092     0.002590  \n",
       "7800.100433           1.001977     0.002499      1.003748     0.002583  \n",
       "7800.101185           1.001619     0.002509      1.001948     0.002590  "
      ]
     },
     "execution_count": 15,
     "metadata": {},
     "output_type": "execute_result"
    }
   ],
   "source": [
    "#set time as index\n",
    "df = df.set_index('BJD(TDB)-2450000')\n",
    "df.head(3)"
   ]
  },
  {
   "cell_type": "code",
   "execution_count": 17,
   "metadata": {
    "ExecuteTime": {
     "end_time": "2017-10-28T04:54:01.557141Z",
     "start_time": "2017-10-28T04:53:59.917661Z"
    },
    "scrolled": true
   },
   "outputs": [
    {
     "data": {
      "text/plain": [
       "<matplotlib.axes._subplots.AxesSubplot at 0x7f5588aa8550>"
      ]
     },
     "execution_count": 17,
     "metadata": {},
     "output_type": "execute_result"
    },
    {
     "data": {
      "image/png": "[encoded data removed]",
      "text/plain": [
       "<matplotlib.figure.Figure at 0x7f5588aa4080>"
      ]
     },
     "metadata": {},
     "output_type": "display_data"
    }
   ],
   "source": [
    "col = 'flux(r=9.0)'\n",
    "df[col].plot()"
   ]
  },
  {
   "cell_type": "code",
   "execution_count": 18,
   "metadata": {
    "ExecuteTime": {
     "end_time": "2017-10-28T04:54:02.417951Z",
     "start_time": "2017-10-28T04:54:01.566631Z"
    }
   },
   "outputs": [
    {
     "data": {
      "text/plain": [
       "<matplotlib.axes._subplots.AxesSubplot at 0x7f55888eeac8>"
      ]
     },
     "execution_count": 18,
     "metadata": {},
     "output_type": "execute_result"
    },
    {
     "data": {
      "image/png": "[encoded data removed]",
      "text/plain": [
       "<matplotlib.figure.Figure at 0x7f55889ec908>"
      ]
     },
     "metadata": {},
     "output_type": "display_data"
    }
   ],
   "source": [
    "#prettier plotting\n",
    "import matplotlib.pyplot as pl\n",
    "\n",
    "\n",
    "#create a blank figure\n",
    "figure, axis = pl.subplots(nrows=1,ncols=1,figsize=(15,5))\n",
    "\n",
    "col='flux(r=9.0)'\n",
    "df[col].plot(marker='.', linestyle='',ax=axis)"
   ]
  },
  {
   "cell_type": "code",
   "execution_count": 25,
   "metadata": {
    "ExecuteTime": {
     "end_time": "2017-10-28T04:56:14.942643Z",
     "start_time": "2017-10-28T04:56:14.849487Z"
    }
   },
   "outputs": [],
   "source": [
    "data={}\n",
    "data2={} #df for outliers removed\n",
    "\n",
    "bands='g,r,z'.split(',')\n",
    "for b in bands:\n",
    "    fname='lcf_msct_'+b+'_'+name+'_'+date+'_t'+target_star_id+'_c'+comparison_star_id+'_r'+radii_range+'.bjd.dat'\n",
    "    df=pd.read_csv(fname, delimiter=' ', parse_dates=True)\n",
    "    #remove columns\n",
    "    df=df.drop(['Unnamed: 20','frame'],axis=1)\n",
    "    #set index\n",
    "    df=df.set_index('BJD(TDB)-2450000')\n",
    "    data[b]=df\n",
    "    #remove outliers\n",
    "    df2 = df[np.abs(df-df.mean())<=(sigma*df.std())]\n",
    "    #set index\n",
    "    #df2=df2.set_index('BJD(TDB)-2450000')\n",
    "    data2[b]=df2"
   ]
  },
  {
   "cell_type": "code",
   "execution_count": 26,
   "metadata": {
    "ExecuteTime": {
     "end_time": "2017-10-28T04:56:16.163602Z",
     "start_time": "2017-10-28T04:56:16.154626Z"
    }
   },
   "outputs": [
    {
     "data": {
      "text/plain": [
       "dict"
      ]
     },
     "execution_count": 26,
     "metadata": {},
     "output_type": "execute_result"
    }
   ],
   "source": [
    "type(data2)"
   ]
  },
  {
   "cell_type": "code",
   "execution_count": 27,
   "metadata": {
    "ExecuteTime": {
     "end_time": "2017-10-28T04:56:16.561493Z",
     "start_time": "2017-10-28T04:56:16.545730Z"
    }
   },
   "outputs": [
    {
     "data": {
      "text/plain": [
       "dict_keys(['g', 'r', 'z'])"
      ]
     },
     "execution_count": 27,
     "metadata": {},
     "output_type": "execute_result"
    }
   ],
   "source": [
    "data2.keys()"
   ]
  },
  {
   "cell_type": "code",
   "execution_count": 28,
   "metadata": {
    "ExecuteTime": {
     "end_time": "2017-10-28T04:56:17.139809Z",
     "start_time": "2017-10-28T04:56:16.970192Z"
    }
   },
   "outputs": [
    {
     "data": {
      "text/html": [
       "<div>\n",
       "<style>\n",
       "    .dataframe thead tr:only-child th {\n",
       "        text-align: right;\n",
       "    }\n",
       "\n",
       "    .dataframe thead th {\n",
       "        text-align: left;\n",
       "    }\n",
       "\n",
       "    .dataframe tbody tr th {\n",
       "        vertical-align: top;\n",
       "    }\n",
       "</style>\n",
       "<table border=\"1\" class=\"dataframe\">\n",
       "  <thead>\n",
       "    <tr style=\"text-align: right;\">\n",
       "      <th></th>\n",
       "      <th>airmass</th>\n",
       "      <th>sky(ADU)</th>\n",
       "      <th>dx(pix)</th>\n",
       "      <th>dy(pix)</th>\n",
       "      <th>fwhm(pix)</th>\n",
       "      <th>peak(ADU)</th>\n",
       "      <th>flux(r=9.0)</th>\n",
       "      <th>err(r=9.0)</th>\n",
       "      <th>flux(r=10.0)</th>\n",
       "      <th>err(r=10.0)</th>\n",
       "      <th>flux(r=11.0)</th>\n",
       "      <th>err(r=11.0)</th>\n",
       "      <th>flux(r=12.0)</th>\n",
       "      <th>err(r=12.0)</th>\n",
       "      <th>flux(r=13.0)</th>\n",
       "      <th>err(r=13.0)</th>\n",
       "      <th>flux(r=14.0)</th>\n",
       "      <th>err(r=14.0)</th>\n",
       "    </tr>\n",
       "    <tr>\n",
       "      <th>BJD(TDB)-2450000</th>\n",
       "      <th></th>\n",
       "      <th></th>\n",
       "      <th></th>\n",
       "      <th></th>\n",
       "      <th></th>\n",
       "      <th></th>\n",
       "      <th></th>\n",
       "      <th></th>\n",
       "      <th></th>\n",
       "      <th></th>\n",
       "      <th></th>\n",
       "      <th></th>\n",
       "      <th></th>\n",
       "      <th></th>\n",
       "      <th></th>\n",
       "      <th></th>\n",
       "      <th></th>\n",
       "      <th></th>\n",
       "    </tr>\n",
       "  </thead>\n",
       "  <tbody>\n",
       "    <tr>\n",
       "      <th>7800.099692</th>\n",
       "      <td>1.9196</td>\n",
       "      <td>2564.1</td>\n",
       "      <td>-1.522</td>\n",
       "      <td>-0.067</td>\n",
       "      <td>10.40</td>\n",
       "      <td>13180.2</td>\n",
       "      <td>0.997805</td>\n",
       "      <td>0.002302</td>\n",
       "      <td>0.997585</td>\n",
       "      <td>0.002328</td>\n",
       "      <td>0.998154</td>\n",
       "      <td>0.002375</td>\n",
       "      <td>0.998058</td>\n",
       "      <td>0.002436</td>\n",
       "      <td>0.998373</td>\n",
       "      <td>0.002509</td>\n",
       "      <td>0.998092</td>\n",
       "      <td>0.002590</td>\n",
       "    </tr>\n",
       "    <tr>\n",
       "      <th>7800.100433</th>\n",
       "      <td>1.9102</td>\n",
       "      <td>2560.6</td>\n",
       "      <td>-1.843</td>\n",
       "      <td>0.175</td>\n",
       "      <td>10.10</td>\n",
       "      <td>13581.1</td>\n",
       "      <td>0.995643</td>\n",
       "      <td>0.002284</td>\n",
       "      <td>0.996653</td>\n",
       "      <td>0.002313</td>\n",
       "      <td>0.998239</td>\n",
       "      <td>0.002361</td>\n",
       "      <td>1.000560</td>\n",
       "      <td>0.002426</td>\n",
       "      <td>1.001977</td>\n",
       "      <td>0.002499</td>\n",
       "      <td>1.003748</td>\n",
       "      <td>0.002583</td>\n",
       "    </tr>\n",
       "    <tr>\n",
       "      <th>7800.101185</th>\n",
       "      <td>1.9007</td>\n",
       "      <td>2572.5</td>\n",
       "      <td>-1.062</td>\n",
       "      <td>-0.709</td>\n",
       "      <td>9.63</td>\n",
       "      <td>13743.7</td>\n",
       "      <td>1.001389</td>\n",
       "      <td>0.002297</td>\n",
       "      <td>1.001252</td>\n",
       "      <td>0.002325</td>\n",
       "      <td>1.001248</td>\n",
       "      <td>0.002374</td>\n",
       "      <td>1.000594</td>\n",
       "      <td>0.002434</td>\n",
       "      <td>1.001619</td>\n",
       "      <td>0.002509</td>\n",
       "      <td>1.001948</td>\n",
       "      <td>0.002590</td>\n",
       "    </tr>\n",
       "  </tbody>\n",
       "</table>\n",
       "</div>"
      ],
      "text/plain": [
       "                  airmass  sky(ADU)  dx(pix)  dy(pix)  fwhm(pix)  peak(ADU)  \\\n",
       "BJD(TDB)-2450000                                                              \n",
       "7800.099692        1.9196    2564.1   -1.522   -0.067      10.40    13180.2   \n",
       "7800.100433        1.9102    2560.6   -1.843    0.175      10.10    13581.1   \n",
       "7800.101185        1.9007    2572.5   -1.062   -0.709       9.63    13743.7   \n",
       "\n",
       "                  flux(r=9.0)  err(r=9.0)  flux(r=10.0)  err(r=10.0)  \\\n",
       "BJD(TDB)-2450000                                                       \n",
       "7800.099692          0.997805    0.002302      0.997585     0.002328   \n",
       "7800.100433          0.995643    0.002284      0.996653     0.002313   \n",
       "7800.101185          1.001389    0.002297      1.001252     0.002325   \n",
       "\n",
       "                  flux(r=11.0)  err(r=11.0)  flux(r=12.0)  err(r=12.0)  \\\n",
       "BJD(TDB)-2450000                                                         \n",
       "7800.099692           0.998154     0.002375      0.998058     0.002436   \n",
       "7800.100433           0.998239     0.002361      1.000560     0.002426   \n",
       "7800.101185           1.001248     0.002374      1.000594     0.002434   \n",
       "\n",
       "                  flux(r=13.0)  err(r=13.0)  flux(r=14.0)  err(r=14.0)  \n",
       "BJD(TDB)-2450000                                                        \n",
       "7800.099692           0.998373     0.002509      0.998092     0.002590  \n",
       "7800.100433           1.001977     0.002499      1.003748     0.002583  \n",
       "7800.101185           1.001619     0.002509      1.001948     0.002590  "
      ]
     },
     "execution_count": 28,
     "metadata": {},
     "output_type": "execute_result"
    }
   ],
   "source": [
    "data2['g'].head(3)"
   ]
  },
  {
   "cell_type": "code",
   "execution_count": null,
   "metadata": {
    "ExecuteTime": {
     "start_time": "2017-10-28T05:02:46.212Z"
    }
   },
   "outputs": [],
   "source": [
    "fluxcol='flux(r=9.0)'\n",
    "\n",
    "fig,ax = pl.subplots(1,1,figsize=(15,4))\n",
    "for b in sorted(bands):\n",
    "    df2[b][fluxcol].plot(label=b, ax=ax)"
   ]
  },
  {
   "cell_type": "markdown",
   "metadata": {},
   "source": [
    "## Removing outliers"
   ]
  },
  {
   "cell_type": "code",
   "execution_count": 14,
   "metadata": {
    "ExecuteTime": {
     "end_time": "2017-10-28T03:43:14.287156Z",
     "start_time": "2017-10-28T03:43:13.854593Z"
    }
   },
   "outputs": [
    {
     "data": {
      "image/png": "[encoded data removed]",
      "text/plain": [
       "<matplotlib.figure.Figure at 0x7f5347f237f0>"
      ]
     },
     "metadata": {},
     "output_type": "display_data"
    }
   ],
   "source": [
    "fluxcol='flux(r=9.0)'\n",
    "sigma=5\n",
    "\n",
    "fig,ax = pl.subplots(1,1,figsize=(15,4))\n",
    "for b in sorted(bands):\n",
    "    df=data[b]\n",
    "    #remove outlier\n",
    "    df=df[np.abs(df-df.mean())<=(sigma*df.std())]\n",
    "    df[fluxcol].plot(label=b, ax=ax)"
   ]
  },
  {
   "cell_type": "code",
   "execution_count": 13,
   "metadata": {
    "ExecuteTime": {
     "end_time": "2017-10-28T03:11:22.487580Z",
     "start_time": "2017-10-28T03:11:02.929293Z"
    }
   },
   "outputs": [
    {
     "data": {
      "text/plain": [
       "<matplotlib.legend.Legend at 0x7f5340864390>"
      ]
     },
     "execution_count": 13,
     "metadata": {},
     "output_type": "execute_result"
    },
    {
     "data": {
      "image/png": "[encoded data removed]",
      "text/plain": [
       "<matplotlib.figure.Figure at 0x7f53408647b8>"
      ]
     },
     "metadata": {},
     "output_type": "display_data"
    }
   ],
   "source": [
    "from astropy.stats import sigma_clip\n",
    "\n",
    "outliers = {}\n",
    "data2    = {} #outliers removed\n",
    "\n",
    "colors='b,g,r'.split(',')\n",
    "fig,ax = pl.subplots(1,1,figsize=(15,4))\n",
    "for (b,c) in zip(sorted(bands),colors):\n",
    "    df = data[b]\n",
    "    #determine outliers\n",
    "    fc = sigma_clip(df['flux(r=9.0)'], sigma_lower=3, sigma_upper=3)\n",
    "    xc = sigma_clip(df['dx(pix)'], sigma_lower=3, sigma_upper=3)\n",
    "    yc = sigma_clip(df[['dy(pix)']], sigma_lower=3, sigma_upper=3)\n",
    "    outliers[b] = (xc.mask | yc.mask | fc.mask)\n",
    "    #remove outliers\n",
    "    df2 = df[~outliers[b]]\n",
    "    data2[b] = df2\n",
    "    df2['flux(r=9.0)'].plot(label=b, marker='.', color=c, alpha=0.5, ax=ax)\n",
    "    ax.set_ylabel('Normalized flux')\n",
    "pl.legend()"
   ]
  },
  {
   "cell_type": "markdown",
   "metadata": {},
   "source": [
    "## Save"
   ]
  },
  {
   "cell_type": "code",
   "execution_count": 11,
   "metadata": {
    "ExecuteTime": {
     "end_time": "2017-10-20T12:34:38.677316Z",
     "start_time": "2017-10-20T12:34:38.664476Z"
    },
    "collapsed": true
   },
   "outputs": [],
   "source": [
    "for b in sorted(bands):\n",
    "    fname='hatp44_QL_{}-band.csv'.format(b)\n",
    "    data2[b].to_csv(fname)"
   ]
  }
 ],
 "metadata": {
  "kernelspec": {
   "display_name": "Python 3",
   "language": "python",
   "name": "python3"
  },
  "language_info": {
   "codemirror_mode": {
    "name": "ipython",
    "version": 3
   },
   "file_extension": ".py",
   "mimetype": "text/x-python",
   "name": "python",
   "nbconvert_exporter": "python",
   "pygments_lexer": "ipython3",
   "version": "3.6.1"
  }
 },
 "nbformat": 4,
 "nbformat_minor": 2
}
